{
 "cells": [
  {
   "cell_type": "code",
   "execution_count": null,
   "metadata": {},
   "outputs": [],
   "source": [
    "%load_ext autoreload\n",
    "%autoreload 2"
   ]
  },
  {
   "cell_type": "code",
   "execution_count": null,
   "metadata": {},
   "outputs": [],
   "source": [
    "import os, sys, ssl\n",
    "# Elimina le variabili di ambiente proxy\n",
    "proxy_vars = ['http_proxy', 'https_proxy', 'HTTP_PROXY', 'HTTPS_PROXY', 'all_proxy', 'ALL_PROXY']\n",
    "\n",
    "for var in proxy_vars:\n",
    "   os.environ.pop(var, None) \n",
    "\n",
    "ssl._create_default_https_context = ssl._create_unverified_context\n",
    "# Add the project root directory to the system path\n",
    "sys.path.insert(0, os.path.abspath(os.path.join(os.getcwd(), '..')))\n",
    "\n",
    "from trading_system_py.retriever.fetch_data import FetchSingleStock, DataVisualizationStock"
   ]
  },
  {
   "cell_type": "markdown",
   "metadata": {},
   "source": [
    "## INTRODUZIONE AI PREZZI E ALLA PREVEDIBILITÀ\n",
    "\n",
    "### Il modello decompositivo classico\n",
    "- I prezzi di un asset finanziario possono essere rappresentati da:  \n",
    "  `P_t = segnale + errore`\n",
    "  - **Segnale**: Parte prevedibile, legata a trend o cicli strutturati.  \n",
    "  - **Errore**: Parte casuale, legata a fattori imprevedibili come notizie o volatilità.  \n",
    "\n",
    "### Errore casuale e teoria del Random Walk\n",
    "- Secondo la teoria del Random Walk (RW), i prezzi si muovono in modo casuale a causa dell'errore.  \n",
    "- Questo rende i rendimenti finanziari difficilmente prevedibili.  \n",
    "\n",
    "### Componenti deterministiche prevedibili\n",
    "- Esistono componenti prevedibili come:\n",
    "  - Trend persistenti.  \n",
    "  - Pattern ripetuti.  \n",
    "  - Fenomeni riconoscibili attraverso strumenti avanzati o informazioni superiori.  "
   ]
  },
  {
   "cell_type": "markdown",
   "metadata": {},
   "source": [
    "## IL TREND COME COMPONENTE PREVEDIBILE\n",
    "\n",
    "### Cos’è il trend?\n",
    "- Il trend è la direzione generale del movimento dei prezzi su un determinato periodo:\n",
    "  - **Rialzista**: Prezzi in aumento.  \n",
    "  - **Ribassista**: Prezzi in calo.  \n",
    "  - **Laterale**: Prezzi stabili.  \n",
    "\n",
    "### Metodi per individuare il trend\n",
    "1. **Modelli e pattern grafici**: Identificazione visiva di supporti, resistenze e livelli chiave.  \n",
    "2. **Modelli analitici**: Utilizzo di strumenti matematici e statistici.  \n",
    "3. **Esperienza del trader**: Analisi del sentiment e correlazioni tra mercati (commodities, opzioni, azionario).  \n",
    "\n",
    "### Mercati bull vs bear\n",
    "- **Mercati bull**: Trend rialzisti più lunghi e prevedibili.  \n",
    "- **Mercati bear**: Trend ribassisti più brevi e difficili da seguire.  "
   ]
  },
  {
   "cell_type": "code",
   "execution_count": null,
   "metadata": {},
   "outputs": [],
   "source": [
    "# Dizionario per le stock\n",
    "stock_dict = {\n",
    "    \"AAPL\": \"Apple Inc. - Leader nel settore tecnologico, offre solidi fondamentali e una storia di crescita costante.\",\n",
    "    \"MSFT\": \"Microsoft Corporation - Azienda diversificata con forte presenza nel cloud computing e software.\",\n",
    "    \"AMZN\": \"Amazon.com Inc. - Gigante dell'e-commerce e dei servizi cloud, con potenziale di crescita a lungo termine.\",\n",
    "    \"GOOGL\": \"Alphabet Inc. (Classe A) - Holding di Google, dominante nel settore della pubblicità online e dei servizi digitali.\",\n",
    "    \"TSLA\": \"Tesla Inc. - Pioniere nel settore dei veicoli elettrici, con forte innovazione tecnologica.\",\n",
    "    \"JNJ\": \"Johnson & Johnson - Azienda leader nel settore farmaceutico e dei dispositivi medici, con una solida storia di dividendi.\",\n",
    "    \"PG\": \"Procter & Gamble Co. - Multinazionale con un ampio portafoglio di marchi noti, stabile e resiliente.\",\n",
    "    \"KO\": \"Coca-Cola Company - Marchio globale con una forte presenza nel mercato delle bevande analcoliche.\",\n",
    "    \"XOM\": \"Exxon Mobil Corporation - Una delle maggiori compagnie petrolifere integrate a livello mondiale.\",\n",
    "    \"JPM\": \"JPMorgan Chase & Co. - Banca leader con una vasta gamma di servizi finanziari e una solida posizione di mercato.\",\n",
    "    \"WMT\": \"Walmart Inc. - Il più grande rivenditore al mondo, con una vasta rete di negozi e una crescente presenza online.\",\n",
    "    \"V\": \"Visa Inc. - Leader nei pagamenti elettronici, beneficiando della transizione verso una società senza contanti.\",\n",
    "    \"MCD\": \"McDonald's Corporation - Catena di fast food globale con un modello di business consolidato e una forte presenza internazionale.\",\n",
    "    \"INTC\": \"Intel Corporation - Uno dei principali produttori di semiconduttori, con una lunga storia nel settore tecnologico.\"\n",
    "}\n",
    "\n",
    "# Dizionario per i bond\n",
    "bond_dict = {\n",
    "    \"LQD\": \"iShares iBoxx $ Investment Grade Corporate Bond ETF - Offre esposizione a obbligazioni corporate di alta qualità creditizia.\",\n",
    "    \"TLT\": \"iShares 20+ Year Treasury Bond ETF - Fornisce accesso a titoli di Stato USA a lunga scadenza, utile per diversificazione e gestione del rischio.\",\n",
    "    \"BND\": \"Vanguard Total Bond Market ETF - Rappresenta l'intero mercato obbligazionario statunitense, ideale per una copertura ampia.\",\n",
    "    \"EMB\": \"iShares J.P. Morgan USD Emerging Markets Bond ETF - Offre esposizione a obbligazioni dei mercati emergenti, aggiungendo potenziale rendimento e diversificazione.\",\n",
    "    \"HYG\": \"iShares iBoxx $ High Yield Corporate Bond ETF - Fornisce accesso a obbligazioni corporate ad alto rendimento, sebbene con maggiore rischio.\"\n",
    "}\n",
    "\n",
    "# Dizionario per gli ETF\n",
    "etf_dict = {\n",
    "    \"SPY\": \"SPDR S&P 500 ETF Trust - Replica l'indice S&P 500, offrendo esposizione alle principali società statunitensi.\",\n",
    "    \"EEM\": \"iShares MSCI Emerging Markets ETF - Offre accesso ai mercati azionari emergenti, utile per diversificazione geografica.\",\n",
    "    \"VEA\": \"Vanguard FTSE Developed Markets ETF - Fornisce esposizione ai mercati sviluppati al di fuori degli Stati Uniti.\",\n",
    "    \"QQQ\": \"Invesco QQQ Trust - Replica l'indice Nasdaq-100, concentrato su aziende tecnologiche di grande capitalizzazione.\",\n",
    "    \"IWM\": \"iShares Russell 2000 ETF - Offre esposizione alle piccole capitalizzazioni statunitensi, aggiungendo diversificazione al portafoglio.\",\n",
    "    \"XLF\": \"Financial Select Sector SPDR Fund - Fornisce esposizione al settore finanziario statunitense, utile per strategie settoriali.\",\n",
    "    \"XLK\": \"Technology Select Sector SPDR Fund - Concentra l'investimento nel settore tecnologico, ideale per capitalizzare sull'innovazione.\",\n",
    "    \"XLE\": \"Energy Select Sector SPDR Fund - Offre accesso al settore energetico, utile in fasi di rialzo dei prezzi delle materie prime.\",\n",
    "    \"XLV\": \"Health Care Select Sector SPDR Fund - Fornisce esposizione al settore sanitario, considerato difensivo in periodi di volatilità.\",\n",
    "    \"XLY\": \"Consumer Discretionary Select Sector SPDR Fund - Offre accesso al settore dei beni di consumo discrezionali, sensibile ai cicli economici.\"\n",
    "}"
   ]
  },
  {
   "cell_type": "markdown",
   "metadata": {},
   "source": [
    "## Utilizzo delle classi di retrieving del dato\n",
    "\n",
    "Questa libreria Python è progettata per facilitare l’estrazione e la gestione di dati finanziari relativi a singoli titoli e portafogli. Utilizza l’**API Yahoo Finance** (yfinance) per scaricare serie storiche di prezzi e dati fondamentali, oltre a fornire funzionalità per la gestione di dati risk-free e la manipolazione di dati finanziari. \n",
    "\n",
    "La libreria include anche funzionalità per calcolare se un titolo è sottovalutato o sopravvalutato basandosi sul rapporto prezzo/utili (P/E)."
   ]
  },
  {
   "cell_type": "code",
   "execution_count": null,
   "metadata": {},
   "outputs": [],
   "source": [
    "retriever = FetchSingleStock()\n",
    "stock = retriever.download_history(ticker='SPY', date_range=['2000-01-01', '2024-10-01'])\n",
    "stock.head(10)"
   ]
  },
  {
   "cell_type": "code",
   "execution_count": null,
   "metadata": {},
   "outputs": [],
   "source": [
    "retriever.download_options_put_call_ratio(ticker='AAPL')"
   ]
  },
  {
   "cell_type": "code",
   "execution_count": null,
   "metadata": {},
   "outputs": [],
   "source": [
    "retriever.resample_history_by_custom_bar_time_interval(stock, time_interval='ME').head(10)"
   ]
  },
  {
   "cell_type": "markdown",
   "metadata": {},
   "source": [
    "## MODELLI E PATTERN GRAFICI\n",
    "\n",
    "### Grafici finanziari\n",
    "- Rappresentano i prezzi nel tempo:  \n",
    "  - **Ascissa**: Tempo.  \n",
    "  - **Ordinata**: Prezzo.  \n",
    "\n",
    "#### Caratteristiche dei grafici\n",
    "- **Unità di tempo**: Intraday, giornaliere, settimanali, mensili.  \n",
    "- **Scala**: Lineare o logaritmica.  \n",
    "- **Tipologie**:  \n",
    "  - Lineare: Connette i prezzi di chiusura.  \n",
    "  - A barre: Mostra apertura, chiusura, massimo e minimo.  \n",
    "  - A candele: Evidenzia fasi rialziste/ribassiste.\n",
    "\n",
    "### Livelli di prezzo\n",
    "- **Statici**:  \n",
    "  - **Supporti**: Livelli in cui il prezzo tende a rimbalzare.  \n",
    "  - **Resistenze**: Livelli in cui il prezzo tende a invertire verso il basso.  \n",
    "- **Dinamici**:  \n",
    "  - **Trendline**: Linee che seguono massimi/minimi crescenti o decrescenti.  \n",
    "  - **Returnline**: Parallela alla trendline, forma un canale di prezzo.  \n",
    "- **Break-out**: Rottura di supporti/resistenze.  \n",
    "- **Gap**: Salti improvvisi del prezzo senza scambi intermedi.\n",
    "\n",
    "### Analisi tecnica\n",
    "- Principio: Tutte le informazioni rilevanti sono riflesse nel prezzo.  \n",
    "- **Pattern comuni**:  \n",
    "  - Rettangoli, Testa e Spalle, Triangoli, Bandiere, Cunei.  \n",
    "\n",
    "\n",
    "---\n",
    "\n",
    "## MODELLI ANALITICI\n",
    "\n",
    "### Analisi di trend e volatilità\n",
    "- I modelli analitici stimano il miglior **processo generatore dei dati** (DGP).  \n",
    "- Formula base:  \n",
    "  `Y = Segnale + Errore`\n",
    "\n",
    "### Strumenti principali\n",
    "1. **Medie mobili**: Filtrano il rumore per evidenziare il trend.  \n",
    "2. **Oscillatori**:  \n",
    "   - **Momentum**: Velocità del movimento.  \n",
    "   - **ROC**: Variazione percentuale.  \n",
    "   - **MACD**: Trend e momentum.  \n",
    "   - **RSI e Stocastico**: Ipercomprato/ipervenduto.  \n",
    "3. **Tecniche statistiche**:  \n",
    "   - Smoothing esponenziale, Bande di Bollinger, Analisi delle serie storiche.  "
   ]
  },
  {
   "cell_type": "code",
   "execution_count": null,
   "metadata": {},
   "outputs": [],
   "source": [
    "visualizer = DataVisualizationStock(stock)\n",
    "visualizer.plot_ohlc()"
   ]
  },
  {
   "cell_type": "code",
   "execution_count": null,
   "metadata": {},
   "outputs": [],
   "source": [
    "from trading_system_py.utils.technical_indicators import TechnicalIndicators\n",
    "\n",
    "talib = TechnicalIndicators()\n",
    "\n",
    "for x in talib.get_all_available_indicators():\n",
    "    print(x, talib.get_function_signature(func_name=x))"
   ]
  },
  {
   "cell_type": "code",
   "execution_count": null,
   "metadata": {},
   "outputs": [],
   "source": [
    "f = 'SMA'\n",
    "talib.get_function_signature(func_name=f).parameters.keys()"
   ]
  },
  {
   "cell_type": "code",
   "execution_count": null,
   "metadata": {},
   "outputs": [],
   "source": [
    "from trading_system_py.utils.technical_indicators import TechnicalIndicatorsDataObject\n",
    "technical_indicators = TechnicalIndicatorsDataObject(\n",
    "            open_prices=stock['Open'], \n",
    "            high_prices=stock['High'], \n",
    "            low_prices=stock['Low'], \n",
    "            close_prices=stock['Close'], \n",
    "            volumes=stock['Volume']\n",
    "        )"
   ]
  },
  {
   "cell_type": "code",
   "execution_count": null,
   "metadata": {},
   "outputs": [],
   "source": [
    "technical_indicators.calculate_all_indicators(as_pandas=True)"
   ]
  },
  {
   "cell_type": "code",
   "execution_count": null,
   "metadata": {},
   "outputs": [],
   "source": [
    "tmp = technical_indicators.calculate_all_indicators(specific_indicator_list=[('SMA_5', 'SMA', {'timeperiod': 5}),\n",
    "                                                                             ('SMA_10', 'SMA', {'timeperiod': 10})], as_pandas=True)\n",
    "\n",
    "tmp.head(10)"
   ]
  },
  {
   "cell_type": "code",
   "execution_count": null,
   "metadata": {},
   "outputs": [],
   "source": [
    "visualizer.plot_combined([\n",
    "    ('OHLC', {}),\n",
    "    #('SMA', {'timeperiod': 200}),\n",
    "    #('T3', {}),\n",
    "    ('VOLUME', {}),\n",
    "    ('MACD', {}),\n",
    "    #('RSI', {'period': 20}),\n",
    "    ('BBANDS', {})\n",
    "    ])"
   ]
  },
  {
   "cell_type": "code",
   "execution_count": null,
   "metadata": {},
   "outputs": [],
   "source": [
    "risk_free_rate = retriever.download_risk_free_rate_curve(ticker='^IRX', date_range=['2014-01-01', '2024-10-01'])\n",
    "risk_free_rate.head()"
   ]
  },
  {
   "cell_type": "code",
   "execution_count": null,
   "metadata": {},
   "outputs": [],
   "source": [
    "retriever.scrape_fundamental_data(ticker='AAPL')"
   ]
  },
  {
   "cell_type": "code",
   "execution_count": null,
   "metadata": {},
   "outputs": [],
   "source": [
    "retriever.download_options_put_call_ratio(ticker='AAPL')"
   ]
  },
  {
   "cell_type": "code",
   "execution_count": null,
   "metadata": {},
   "outputs": [],
   "source": [
    "from trading_system_py.retriever.fetch_data import FetchData\n",
    "\n",
    "\n",
    "data_retriever = FetchData(ticker_list = list(stock_dict.keys())+list(bond_dict.keys()), \n",
    "                           date_range=['2014-01-01', '2024-10-01'])"
   ]
  },
  {
   "cell_type": "code",
   "execution_count": null,
   "metadata": {},
   "outputs": [],
   "source": [
    "data_retriever.data"
   ]
  },
  {
   "cell_type": "code",
   "execution_count": null,
   "metadata": {},
   "outputs": [],
   "source": [
    "data_retriever.get_all_fundamental()"
   ]
  },
  {
   "cell_type": "code",
   "execution_count": null,
   "metadata": {},
   "outputs": [],
   "source": [
    "data_retriever.get_all_put_call_ratio(as_pandas=False)"
   ]
  },
  {
   "cell_type": "code",
   "execution_count": null,
   "metadata": {},
   "outputs": [],
   "source": [
    "data_retriever.get_all_risk_free_curve()"
   ]
  },
  {
   "cell_type": "code",
   "execution_count": null,
   "metadata": {},
   "outputs": [],
   "source": [
    "from trading_system_py.retriever.import_data_from_object import ImportDataFromObject\n",
    "\n",
    "data_path = os.path.abspath(os.path.join(os.getcwd(), '../data'))\n",
    "data_retriever.export(data_path, filename='sample_30_min.pickle')\n",
    "\n",
    "\n",
    "data_from_pickle = ImportDataFromObject(path=data_path, filename='sample_30_min.pickle')\n",
    "data_from_pickle.__dict__"
   ]
  },
  {
   "cell_type": "code",
   "execution_count": null,
   "metadata": {},
   "outputs": [],
   "source": [
    "import matplotlib.pyplot as plt\n",
    "\n",
    "visualizer = DataVisualizationStock(data_retriever.get_all_risk_free_curve())\n",
    "visualizer.plot_ohlc()\n",
    "plt.plot(data_retriever.get_all_risk_free_curve()['daily'])"
   ]
  },
  {
   "cell_type": "code",
   "execution_count": null,
   "metadata": {},
   "outputs": [],
   "source": [
    "data_retriever.plot_ticker_data(ticker='AMZN', plots=[\n",
    "    ('OHLC', {}),\n",
    "    ('SMA', {'timeperiod': 50}),\n",
    "    ('SMA', {'timeperiod': 200}),\n",
    "    #('T3', {}),\n",
    "    ('VOLUME', {}),\n",
    "    #('MACD', {}),\n",
    "    #('RSI', {'period': 20}),\n",
    "    ('BBANDS', {})\n",
    "    ])"
   ]
  },
  {
   "cell_type": "markdown",
   "metadata": {},
   "source": [
    "## PORTAFOGLIO E FRONTIERA EFFICIENTE\n",
    "\n",
    "### Cos’è un portafoglio?\n",
    "- Combinazione di più asset definito secondo la propria propensione al rischio.  \n",
    "- **Operazioni principali**: Acquisto, vendita, vendita allo scoperto, cover short.  \n",
    "\n",
    "### Frontiera efficiente\n",
    "- Rappresenta il miglior mix rischio-rendimento.  \n",
    "- **Misura chiave**: Sharpe Ratio (rendimento corretto per il rischio). \n",
    "\n",
    "## **Frontiera Efficiente: Estensione Teorica**\n",
    "\n",
    "### **Cos’è la Frontiera Efficiente?**\n",
    "La frontiera efficiente è un concetto fondamentale della teoria del portafoglio moderno (Modern Portfolio Theory, MPT) sviluppata da Harry Markowitz. Essa rappresenta l'insieme di tutti i portafogli ottimali che offrono il massimo rendimento atteso per un dato livello di rischio o, viceversa, il minimo rischio per un dato livello di rendimento atteso.\n",
    "\n",
    "### **Caratteristiche Principali**\n",
    "1. **Rischio e Rendimento:**  \n",
    "   Ogni portafoglio può essere valutato in base a due parametri:\n",
    "   - **Rendimento atteso**: La media dei ritorni futuri previsti.\n",
    "   - **Rischio**: Spesso misurato come deviazione standard (volatilità) dei rendimenti.\n",
    "\n",
    "2. **Efficienza:**  \n",
    "   Un portafoglio è considerato efficiente se:\n",
    "   - Non esiste un altro portafoglio con lo stesso livello di rischio e un rendimento maggiore.\n",
    "   - Non esiste un altro portafoglio con lo stesso livello di rendimento e un rischio minore.\n",
    "\n",
    "3. **Dominanza:**  \n",
    "   - Portafogli al di sotto della frontiera efficiente sono inefficaci, in quanto esistono alternative migliori in termini di rischio e rendimento.\n",
    "   - La frontiera rappresenta quindi il limite superiore degli investimenti ottimali.\n",
    "\n",
    "---\n",
    "\n",
    "### **Costruzione della Frontiera Efficiente**\n",
    "1. **Calcolo del Rendimento Atteso del Portafoglio (\\(E(R_p)\\)):**\n",
    "   \\[\n",
    "   $$E(R_p) = \\sum_{i=1}^n w_i E(R_i)$$\n",
    "   \\]\n",
    "   Dove:\n",
    "   - $E(R_p)$: Rendimento atteso del portafoglio.\n",
    "   - $w_i$: Peso dell’asset \\(i\\) nel portafoglio.\n",
    "   - $E(R_i)$: Rendimento atteso dell’asset \\(i\\).\n",
    "\n",
    "2. **Calcolo del Rischio del Portafoglio (\\(\\sigma_p\\)):**\n",
    "   \\[\n",
    "   $$\\sigma_p^2 = \\sum_{i=1}^n \\sum_{j=1}^n w_i w_j \\text{Cov}(R_i, R_j)$$\n",
    "   \\]\n",
    "   Dove:\n",
    "   - $\\sigma_p^2$: Varianza del portafoglio.\n",
    "   - $w_i, w_j$: Pesi degli asset \\(i\\) e \\(j\\).\n",
    "   - $\\text{Cov}(R_i, R_j)$: Covarianza tra i rendimenti degli asset \\(i\\) e \\(j\\).\n",
    "\n",
    "3. **Vincoli di Ottimizzazione:**\n",
    "   - Somma dei pesi: $\\sum_{i=1}^n w_i = 1$ (vincolo di completezza).\n",
    "   - Pesi non negativi ($w_i \\geq 0$) se non è consentita la vendita allo scoperto.\n",
    "\n",
    "4. **Risultato:**  \n",
    "   Risolvendo il problema di ottimizzazione, otteniamo la frontiera efficiente come una curva concava che mostra la relazione tra rischio (asse \\(x\\)) e rendimento atteso (asse \\(y\\)).\n",
    "\n",
    "---\n",
    "\n",
    "### **Sharpe Ratio e Allocazione Ottimale**\n",
    "Lo **Sharpe Ratio** è una misura chiave per valutare la performance di un portafoglio. Esso quantifica quanto rendimento extra un investitore ottiene per ogni unità di rischio assunto, rispetto a un asset privo di rischio. La formula è:\n",
    "\\[\n",
    "$$\\text{Sharpe Ratio} = \\frac{E(R_p) - R_f}{\\sigma_p}$$\n",
    "\\]\n",
    "Dove:\n",
    "- $E(R_p)$: Rendimento atteso del portafoglio.\n",
    "- $R_f$: Tasso privo di rischio (es. rendimento dei titoli di stato).\n",
    "- $\\sigma_p$: Volatilità del portafoglio.\n",
    "\n",
    "Un portafoglio con un elevato Sharpe Ratio è preferibile perché offre un buon equilibrio tra rischio e rendimento.\n",
    "\n",
    "---\n",
    "\n",
    "### **Portafoglio di Mercato e Linea del Mercato dei Capitale (CML)**\n",
    "1. **Portafoglio di Mercato:**  \n",
    "   Quando si introduce la possibilità di investire in un asset privo di rischio ($R_f$), il portafoglio ottimale sulla frontiera efficiente è quello che massimizza lo Sharpe Ratio. Questo portafoglio è noto come **portafoglio di mercato**.\n",
    "\n",
    "2. **Linea del Mercato dei Capitali (CML):**  \n",
    "   La CML è una linea retta che parte dal tasso privo di rischio ($R_f$) e si estende tangenzialmente alla frontiera efficiente. La pendenza della CML è lo Sharpe Ratio del portafoglio di mercato.\n",
    "\n",
    "---\n",
    "\n",
    "### **Significato Pratico**\n",
    "1. **Perché è importante la frontiera efficiente?**\n",
    "   - Aiuta gli investitori a identificare il mix ottimale di asset in base alle proprie preferenze di rischio-rendimento.\n",
    "   - Fornisce una base scientifica per la diversificazione.\n",
    "\n",
    "2. **Limitazioni:**\n",
    "   - Dipende da stime future di rendimenti, rischi e covarianze, che possono essere imprecise.\n",
    "   - Non tiene conto di eventi estremi o rischi sistemici.\n",
    "\n",
    "3. **Utilizzo nella costruzione del portafoglio:**\n",
    "   - Gli investitori possono scegliere portafogli lungo la frontiera efficiente in base alla loro propensione al rischio.\n",
    "   - In combinazione con asset privi di rischio, gli investitori possono creare portafogli lungo la CML.\n",
    "\n",
    "---\n",
    "\n",
    "### **Conclusione**\n",
    "La frontiera efficiente fornisce un quadro teorico per ottimizzare portafogli e prendere decisioni di investimento basate sul trade-off rischio-rendimento. Sebbene presenti alcune limitazioni, rimane un concetto fondamentale per comprendere la diversificazione e la gestione del rischio nei mercati finanziari."
   ]
  },
  {
   "cell_type": "code",
   "execution_count": null,
   "metadata": {},
   "outputs": [],
   "source": [
    "from trading_system_py.analysis.asset_allocation.efficient_frontier import EfficientFrontier\n",
    "ef = EfficientFrontier(data=data_retriever.data)\n",
    "ef.plot_generated_portfolios()"
   ]
  },
  {
   "cell_type": "code",
   "execution_count": null,
   "metadata": {},
   "outputs": [],
   "source": [
    "ef.generated_portfolios.head()"
   ]
  },
  {
   "cell_type": "code",
   "execution_count": null,
   "metadata": {},
   "outputs": [],
   "source": [
    "ef.plot_efficient_frontier()"
   ]
  },
  {
   "cell_type": "code",
   "execution_count": null,
   "metadata": {},
   "outputs": [],
   "source": [
    "ef.get_individual_stock_return_volatility()"
   ]
  },
  {
   "cell_type": "code",
   "execution_count": null,
   "metadata": {},
   "outputs": [],
   "source": [
    "ef.get_max_sharpe_random_portfolios()"
   ]
  },
  {
   "cell_type": "code",
   "execution_count": null,
   "metadata": {},
   "outputs": [],
   "source": [
    "ef.get_min_volatility_random_portfolios()"
   ]
  },
  {
   "cell_type": "code",
   "execution_count": null,
   "metadata": {},
   "outputs": [],
   "source": [
    "ef.get_optimized_max_sharpe()"
   ]
  },
  {
   "cell_type": "code",
   "execution_count": null,
   "metadata": {},
   "outputs": [],
   "source": [
    "ef.get_optimized_min_volatility()"
   ]
  }
 ],
 "metadata": {
  "kernelspec": {
   "display_name": ".venv",
   "language": "python",
   "name": "python3"
  },
  "language_info": {
   "codemirror_mode": {
    "name": "ipython",
    "version": 3
   },
   "file_extension": ".py",
   "mimetype": "text/x-python",
   "name": "python",
   "nbconvert_exporter": "python",
   "pygments_lexer": "ipython3",
   "version": "3.12.2"
  }
 },
 "nbformat": 4,
 "nbformat_minor": 2
}
